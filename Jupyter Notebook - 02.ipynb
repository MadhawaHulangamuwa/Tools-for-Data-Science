{
    "cells": [
        {
            "cell_type": "markdown",
            "metadata": {
                "collapsed": true
            },
            "source": "# Peer Graded Assignment"
        },
        {
            "cell_type": "markdown",
            "metadata": {},
            "source": "**Introduction**\n\nThis is the peer graded assignment"
        },
        {
            "cell_type": "markdown",
            "metadata": {},
            "source": "**Data Science Languages**\n\n1. Python\n2. R\n3. SQL\n4. Julia\n5. Swift\n6. Scala"
        },
        {
            "cell_type": "markdown",
            "metadata": {},
            "source": "**Data Science Libraries**\n\n1. pandas\n2. Numpy\n3. Keras\n4. scikit-learn\n5. tensorflow\n6. pytorch\n7. ggplot\n8. dplyr\n9. caret\n10. matplotlib"
        },
        {
            "cell_type": "markdown",
            "metadata": {},
            "source": "**Data Science Tools**\n\n|    Tools        |\n|-----------------|\n|Rstudio          |\n|Jupiter Notebook |\n|IBM Waston Studio|\n|Power BI         |\n|Tableau          |\n"
        },
        {
            "cell_type": "markdown",
            "metadata": {},
            "source": "**Introduction to Arithmatic Expression**"
        },
        {
            "cell_type": "code",
            "execution_count": 8,
            "metadata": {},
            "outputs": [
                {
                    "name": "stdout",
                    "output_type": "stream",
                    "text": "5\n6\n"
                }
            ],
            "source": "print(2+3)\n\nprint(2*3)"
        },
        {
            "cell_type": "code",
            "execution_count": 12,
            "metadata": {},
            "outputs": [
                {
                    "data": {
                        "text/plain": "3"
                    },
                    "execution_count": 12,
                    "metadata": {},
                    "output_type": "execute_result"
                }
            ],
            "source": "Minutes = 180\n\nHours = Minutes/60\nint(Hours)"
        },
        {
            "cell_type": "markdown",
            "metadata": {},
            "source": "**Objectives**\n\n\n1. Objective \n\n2. Create a markdown cell for an introduction. (1 pt)\n\nExercise 4 - Create a markdown cell to list data science languages. (3 pts)\n\nExercise 5 - Create a markdown cell to list data science libraries. (3 pts)\n\nExercise 6 - Create a markdown cell with a table of Data Science tools. (3 pts)\n\nExercise 7 - Create a markdown cell introducing arithmetic expression examples. (1 pt)\n\nExercise 8 - Create a code cell to multiply and add numbers.(2 pts)\n\nExercise 9 - Create a code cell to convert minutes to hours. (2 pts)\n\nExercise 10 -Insert a markdown cell to list Objectives. (3 pts)"
        },
        {
            "cell_type": "markdown",
            "metadata": {},
            "source": "Trainee - Data Sciencetist"
        },
        {
            "cell_type": "markdown",
            "metadata": {},
            "source": "*I am interseted in Data Science because I love to gain insights from data*"
        },
        {
            "cell_type": "markdown",
            "metadata": {},
            "source": "*Secondly, Data Science have become tha most demanded job field in the modern era*"
        },
        {
            "cell_type": "markdown",
            "metadata": {},
            "source": "### Print name"
        },
        {
            "cell_type": "code",
            "execution_count": 4,
            "metadata": {},
            "outputs": [
                {
                    "name": "stdout",
                    "output_type": "stream",
                    "text": "Madhawa\n"
                }
            ],
            "source": "print(\"Madhawa\")"
        },
        {
            "cell_type": "markdown",
            "metadata": {},
            "source": "Ordered list\n1. Number - 1\n2. Number - 2\n3. Number - 3\n\n\nBulleted list\n\n* Number 1\n* Number 2\n* Number 3\n\n\n~~Strike through~~\n"
        }
    ],
    "metadata": {
        "kernelspec": {
            "display_name": "Python 3.10",
            "language": "python",
            "name": "python3"
        },
        "language_info": {
            "codemirror_mode": {
                "name": "ipython",
                "version": 3
            },
            "file_extension": ".py",
            "mimetype": "text/x-python",
            "name": "python",
            "nbconvert_exporter": "python",
            "pygments_lexer": "ipython3",
            "version": "3.10.9"
        }
    },
    "nbformat": 4,
    "nbformat_minor": 1
}