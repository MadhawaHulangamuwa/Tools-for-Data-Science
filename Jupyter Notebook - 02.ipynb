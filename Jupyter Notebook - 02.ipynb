{
    "cells": [
        {
            "cell_type": "markdown",
            "metadata": {
                "collapsed": true
            },
            "source": "# My Jupyter Notebook on IBM Watson Studio"
        },
        {
            "cell_type": "markdown",
            "metadata": {},
            "source": "**Madhawa Hulangamuwa**"
        },
        {
            "cell_type": "markdown",
            "metadata": {},
            "source": "Trainee - Data Sciencetist"
        },
        {
            "cell_type": "markdown",
            "metadata": {},
            "source": "*I am interseted in Data Science because I love to gain insights from data*"
        },
        {
            "cell_type": "markdown",
            "metadata": {},
            "source": "*Secondly, Data Science have become tha most demanded job field in the modern era*"
        },
        {
            "cell_type": "markdown",
            "metadata": {},
            "source": "### Print name"
        },
        {
            "cell_type": "code",
            "execution_count": 4,
            "metadata": {},
            "outputs": [
                {
                    "name": "stdout",
                    "output_type": "stream",
                    "text": "Madhawa\n"
                }
            ],
            "source": "print(\"Madhawa\")"
        },
        {
            "cell_type": "markdown",
            "metadata": {},
            "source": "Ordered list\n1. Number - 1\n2. Number - 2\n3. Number - 3\n\n\nBulleted list\n\n* Number 1\n* Number 2\n* Number 3\n\n\n~~Strike through~~\n"
        }
    ],
    "metadata": {
        "kernelspec": {
            "display_name": "Python 3.10",
            "language": "python",
            "name": "python3"
        },
        "language_info": {
            "codemirror_mode": {
                "name": "ipython",
                "version": 3
            },
            "file_extension": ".py",
            "mimetype": "text/x-python",
            "name": "python",
            "nbconvert_exporter": "python",
            "pygments_lexer": "ipython3",
            "version": "3.10.9"
        }
    },
    "nbformat": 4,
    "nbformat_minor": 1
}